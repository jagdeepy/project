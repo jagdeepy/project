{
 "cells": [
  {
   "cell_type": "code",
   "execution_count": 1,
   "id": "300fd25a",
   "metadata": {},
   "outputs": [],
   "source": [
    "import numpy as np\n",
    "import cv2\n",
    "import os"
   ]
  },
  {
   "cell_type": "code",
   "execution_count": 2,
   "id": "77ae0095",
   "metadata": {},
   "outputs": [
    {
     "name": "stdout",
     "output_type": "stream",
     "text": [
      "Index:  7\n",
      "predicted object 1: car: 75.91%\n",
      "Index:  14\n",
      "predicted object 2: motorbike: 71.52%\n",
      "Index:  2\n",
      "predicted object 3: bicycle: 56.50%\n",
      "Index:  7\n",
      "predicted object 4: car: 47.63%\n",
      "Index:  15\n",
      "predicted object 5: person: 42.55%\n",
      "Index:  6\n",
      "predicted object 6: bus: 33.33%\n"
     ]
    }
   ],
   "source": [
    "img_to_detect = cv2.imread('images/testing/scene1.jpg')\n",
    "assert not isinstance(img_to_detect,type(None)), 'image not found'\n",
    "img_height = img_to_detect.shape[0]\n",
    "img_width = img_to_detect.shape[1]\n",
    "resized_img_to_detect = cv2.resize(img_to_detect,(300,300))\n",
    "img_blob = cv2.dnn.blobFromImage(resized_img_to_detect,0.007843,(300,300),127.5)\n",
    "\n",
    "class_labels = [\"background\", \"aeroplane\", \"bicycle\", \"bird\", \"boat\",\n",
    "\"bottle\", \"bus\", \"car\", \"cat\", \"chair\", \"cow\", \"diningtable\",\n",
    "\"dog\", \"horse\", \"motorbike\", \"person\", \"pottedplant\", \"sheep\",\n",
    "\"sofa\", \"train\", \"tvmonitor\"]\n",
    "\n",
    "mobilenetssd = cv2.dnn.readNetFromCaffe('dataset/mobilenetssd.prototext','dataset/mobilenetssd.caffemodel')\n",
    "mobilenetssd.setInput(img_blob)\n",
    "obj_detections = mobilenetssd.forward()\n",
    "\n",
    "no_of_detections = obj_detections.shape[2]\n",
    "\n",
    "for index in np.arange(0, no_of_detections):\n",
    "    prediction_confidence = obj_detections[0,0,index,2]\n",
    "    if prediction_confidence > 0.2:\n",
    "        predicted_class_index = int(obj_detections[0,0,index,1])\n",
    "        print(\"Index: \",predicted_class_index)\n",
    "        predicted_class_label = class_labels[predicted_class_index]\n",
    "        \n",
    "        bounding_box = obj_detections[0,0,index,3:7]*np.array([img_width,img_height,img_width,img_height])\n",
    "        (start_x_pt,start_y_pt,end_x_pt,end_y_pt) = bounding_box.astype(\"int\")\n",
    "        predicted_class_label = \"{}: {:.2f}%\".format(class_labels[predicted_class_index],prediction_confidence * 100)\n",
    "        print(\"predicted object {}: {}\".format(index+1,predicted_class_label))\n",
    "        cv2.rectangle(img_to_detect,(start_x_pt,start_y_pt),(end_x_pt,end_y_pt),(0,255,0),2)\n",
    "        cv2.putText(img_to_detect, predicted_class_label,(start_x_pt,start_y_pt-5),cv2.FONT_HERSHEY_SIMPLEX,0.5,(0,255,0),1)\n",
    "        \n",
    "cv2.imshow(\"Detection Output\",img_to_detect)    \n",
    "#cv2.imshow('Image_title', img_to_detect)"
   ]
  },
  {
   "cell_type": "code",
   "execution_count": null,
   "id": "96af939e",
   "metadata": {},
   "outputs": [],
   "source": []
  }
 ],
 "metadata": {
  "kernelspec": {
   "display_name": "Python 3",
   "language": "python",
   "name": "python3"
  },
  "language_info": {
   "codemirror_mode": {
    "name": "ipython",
    "version": 3
   },
   "file_extension": ".py",
   "mimetype": "text/x-python",
   "name": "python",
   "nbconvert_exporter": "python",
   "pygments_lexer": "ipython3",
   "version": "3.7.10"
  }
 },
 "nbformat": 4,
 "nbformat_minor": 5
}
