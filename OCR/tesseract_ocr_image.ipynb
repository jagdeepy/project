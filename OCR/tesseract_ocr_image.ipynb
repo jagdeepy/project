{
 "cells": [
  {
   "cell_type": "code",
   "execution_count": 3,
   "id": "105303c1",
   "metadata": {},
   "outputs": [],
   "source": [
    "from PIL import Image\n",
    "import pytesseract\n",
    "import cv2"
   ]
  },
  {
   "cell_type": "code",
   "execution_count": 9,
   "id": "b51d2929",
   "metadata": {},
   "outputs": [],
   "source": [
    "image_to_ocr = cv2.imread('images/testing/test2.jpg')"
   ]
  },
  {
   "cell_type": "code",
   "execution_count": 12,
   "id": "c0919848",
   "metadata": {},
   "outputs": [
    {
     "name": "stdout",
     "output_type": "stream",
     "text": [
      "Never Say Busy To The One\n",
      "Who Needs You,\n",
      "\n",
      "Never cheat The One\n",
      "Who Really Trust You,\n",
      "\n",
      "Alanvnaw Dawaat Tha finn\n",
      "\f",
      "\n"
     ]
    }
   ],
   "source": [
    "preprocessed_img = cv2.cvtColor(image_to_ocr, cv2.COLOR_BGR2GRAY)\n",
    "preprocessed_img = cv2.threshold(preprocessed_img,0,255,cv2.THRESH_BINARY | cv2.THRESH_OTSU)[1]\n",
    "preprocessed_img = cv2.medianBlur(preprocessed_img,3)\n",
    "cv2.imwrite('temp_img.jpg',preprocessed_img)\n",
    "preprocessed_pil_img = Image.open('temp_img.jpg')\n",
    "text_extracted = pytesseract.image_to_string(preprocessed_pil_img)\n",
    "print(text_extracted)\n",
    "cv2.imshow(\"Actual Image\",image_to_ocr)"
   ]
  },
  {
   "cell_type": "code",
   "execution_count": null,
   "id": "5823e411",
   "metadata": {},
   "outputs": [],
   "source": []
  }
 ],
 "metadata": {
  "kernelspec": {
   "display_name": "Python 3",
   "language": "python",
   "name": "python3"
  },
  "language_info": {
   "codemirror_mode": {
    "name": "ipython",
    "version": 3
   },
   "file_extension": ".py",
   "mimetype": "text/x-python",
   "name": "python",
   "nbconvert_exporter": "python",
   "pygments_lexer": "ipython3",
   "version": "3.7.10"
  }
 },
 "nbformat": 4,
 "nbformat_minor": 5
}
